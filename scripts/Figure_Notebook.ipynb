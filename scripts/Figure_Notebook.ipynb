{
 "cells": [
  {
   "cell_type": "markdown",
   "metadata": {},
   "source": [
    "# Figure Notebook"
   ]
  },
  {
   "cell_type": "code",
   "execution_count": 1,
   "metadata": {},
   "outputs": [
    {
     "name": "stdout",
     "output_type": "stream",
     "text": [
      "Could not load xarray\n"
     ]
    }
   ],
   "source": [
    "\"\"\"\n",
    "Import needed libraries\n",
    "\"\"\"\n",
    "\n",
    "import numpy as np\n",
    "import pandas as pd\n",
    "from copy import copy\n",
    "import sys\n",
    "import itertools\n",
    "from netCDF4 import Dataset\n",
    "\n",
    "\"\"\"\n",
    "Import all from projects python scripts\n",
    "\"\"\"\n",
    "\n",
    "from geomip_data_smb import *\n",
    "from analysis import *\n",
    "from plotting import *"
   ]
  },
  {
   "cell_type": "code",
   "execution_count": 2,
   "metadata": {
    "collapsed": true
   },
   "outputs": [],
   "source": [
    "import matplotlib as mpl\n",
    "mpl.rcParams['figure.dpi']= 300 # set inline images to hi-res\n",
    "%matplotlib inline"
   ]
  },
  {
   "cell_type": "code",
   "execution_count": 26,
   "metadata": {
    "collapsed": true
   },
   "outputs": [],
   "source": [
    "\"\"\"\n",
    "Set standard plot options\n",
    "\"\"\"\n",
    "\n",
    "def cm2inch(*tupl):\n",
    "    inch = 2.54\n",
    "    if isinstance(tupl[0], tuple):\n",
    "        return tuple(i/inch for i in tupl[0])\n",
    "    else:\n",
    "        return tuple(i/inch for i in tupl)\n",
    "\n",
    "plt.rcParams.update({'font.size': 8})\n",
    "plt.rcParams.update({'figure.figsize': cm2inch(8.5,8.5)})"
   ]
  },
  {
   "cell_type": "code",
   "execution_count": 3,
   "metadata": {
    "collapsed": true
   },
   "outputs": [],
   "source": [
    "%load_ext autoreload\n",
    "%autoreload 2"
   ]
  },
  {
   "cell_type": "code",
   "execution_count": 4,
   "metadata": {
    "collapsed": true
   },
   "outputs": [],
   "source": [
    "\"\"\"\n",
    "Set up variable and other lists\n",
    "\"\"\"\n",
    "\n",
    "model_list = ['GISS-E2-R','HadCM3', 'BNU-ESM', 'CCSM4', 'CESM-CAM5.1-FV', 'CanESM2', 'CSIRO-Mk3L-1-2','HadGEM2-ES' ,'IPSL-CM5A-LR','MIROC-ESM','MPI-ESM-LR','NorESM1-M']\n",
    "seas_list = ['ann','jja','djf']\n",
    "exp_list = ['piControl','abrupt4xCO2','G1']\n",
    "\n",
    "var_list, var_offsets, var_mults, var_name_mod = [], {}, {}, {}\n",
    "\n",
    "s2d = 60.0*60.0*24.0\n",
    "k2c = -273.15\n",
    "\n",
    "def add_var(var_name, offset, mult, name_mod):\n",
    "    var_list.append(var_name)\n",
    "    var_offsets[var_name] = offset\n",
    "    var_mults[var_name] = mult\n",
    "    var_name_mod[var_name] = name_mod\n",
    "\n",
    "# Climate stuff\n",
    "add_var('tas_Amon',k2c,1.0, \"\")         # 2m temp\n",
    "add_var('pr_Amon', 0.0, s2d, \"\")            # Precip - evap\n",
    "add_var('p-e_Amon', 0.0, s2d, \"\")            # Precip - evap\n",
    "add_var('prsn_Amon', 0.0, s2d, \"\")          # snowfall\n",
    "add_var('evspsbl_Amon', 0.0, s2d, \"\")       # total evap\n",
    "add_var('sbl_Amon', 0.0, s2d, \"\")           # sublimation\n",
    "add_var('ts_Amon', k2c, 1.0, \"\")        # surface temp\n",
    "add_var('hurs_Amon', 0.0, 1.0, \"\")          # relative humidity\n",
    "# Energy flux at surface\n",
    "add_var('rlus_Amon',0.0,1.0,\"\")             # LW up \n",
    "add_var('rlds_Amon',0.0,1.0,\"\")             # LW down\n",
    "add_var('rsus_Amon',0.0,1.0,\"\")             # SW up\n",
    "add_var('rsds_Amon',0.0,1.0,\"\")             # SW down\n",
    "add_var('hfss_Amon',0.0,1.0,\"\")             # sensible heat up\n",
    "add_var('hfls_Amon',0.0,1.0,\"\")             # latent heat up\n",
    "# Snow Stuff\n",
    "add_var('lwsnl_LImon',0.0,1.0,\"\")           # liquid water snow\n",
    "add_var('snd_LImon',0.0,1.0,\"\")             # fresh snow thickness\n",
    "add_var('snm_LImon',0.0,s2d,\"\")             # snow melt\n",
    "add_var('hfdsn_LImon',0.0,1.0,\"\")           # heat flux into snow\n",
    "add_var('tsn_LImon',k2c,1.0,\"\")         # snow temperature\n",
    "add_var('snw_LImon',0.0,1.0,\"\")             # snow mass\n"
   ]
  },
  {
   "cell_type": "code",
   "execution_count": 5,
   "metadata": {
    "collapsed": true
   },
   "outputs": [],
   "source": [
    "\"\"\"\n",
    "Load up masks\n",
    "\"\"\"\n",
    "\n",
    "masks_dict = {}\n",
    "weights_dict = {}\n",
    "\n",
    "mask_list = ['global','land_noice','greenland','antarctica']\n",
    "\n",
    "for model in model_list:\n",
    "    \n",
    "    model_masks = get_masks_weights(model)\n",
    "    \n",
    "    for mask in mask_list:\n",
    "        \n",
    "        masks_dict[model, mask] = model_masks[1][mask]\n",
    "        weights_dict[model, mask] = model_masks[2][mask+'_area']"
   ]
  },
  {
   "cell_type": "code",
   "execution_count": 6,
   "metadata": {},
   "outputs": [],
   "source": [
    "\"\"\"\n",
    "Load up variables\n",
    "\"\"\"\n",
    "\n",
    "means_dict = {}\n",
    "stds_dict = {}\n",
    "\n",
    "# 4 nested for-loops squashed into one!\n",
    "for var, model, exp, seas in itertools.product(var_list, model_list, exp_list, seas_list):\n",
    "               \n",
    "    # look up run for model-exp combo\n",
    "    run = model_exp_runs[model+'_'+exp][0]\n",
    "\n",
    "    try:\n",
    "        means_dict[var, model, exp, seas] = var_mults[var] * get_2d_geomip(var, model, exp, run, seas, 'mean') + var_offsets[var]\n",
    "    except:\n",
    "        means_dict[var, model, exp, seas] = None\n",
    "    try:\n",
    "        stds_dict[var, model, exp, seas] = var_mults[var] * get_2d_geomip(var, model, exp, run, seas, 'std')\n",
    "    except:\n",
    "        stds_dict[var, model, exp, seas] = None"
   ]
  },
  {
   "cell_type": "code",
   "execution_count": 7,
   "metadata": {
    "collapsed": true
   },
   "outputs": [],
   "source": [
    "\"\"\"\n",
    "create surface heat variables\n",
    "\"\"\"\n",
    "\n",
    "# add surface heat to means_dict\n",
    "for model, exp, seas in itertools.product(model_list, exp_list, seas_list):\n",
    "    \n",
    "    # load all vars\n",
    "    rsds = means_dict['rsds_Amon', model, exp, seas]\n",
    "    rsus = means_dict['rsus_Amon', model, exp, seas]\n",
    "    rlds = means_dict['rlds_Amon', model, exp, seas]\n",
    "    rlus = means_dict['rlus_Amon', model, exp, seas]\n",
    "    hfss = means_dict['hfss_Amon', model, exp, seas]\n",
    "    hfls = means_dict['hfls_Amon', model, exp, seas]\n",
    "    \n",
    "    sfc_vars = [rsds,rsus,rlds,rlus,hfss,hfls]\n",
    "    \n",
    "    # calculate\n",
    "    if any(type(t) == type(None) for t in sfc_vars):\n",
    "        sfc_heat, sfc_rad, sfc_nonrad, sfc_sw, sfc_lw = None, None, None, None, None\n",
    "    else:\n",
    "        sfc_heat = rsds + rlds - rsus - rlus - hfss - hfls\n",
    "        sfc_rad = rsds + rlds - rsus - rlus\n",
    "        sfc_nonrad = - hfss - hfls\n",
    "        sfc_sw = rsds - rsus\n",
    "        sfc_lw = rlds - rlus\n",
    "    \n",
    "    # add vars\n",
    "    means_dict['sfc_heat_Amon', model, exp, seas] = sfc_heat\n",
    "    means_dict['sfc_rad_Amon', model, exp, seas] = sfc_rad\n",
    "    means_dict['sfc_nonrad_Amon', model, exp, seas] = sfc_nonrad\n",
    "    means_dict['sfc_sw_Amon', model, exp, seas] = sfc_sw\n",
    "    means_dict['sfc_lw_Amon', model, exp, seas] = sfc_lw\n",
    "    \n",
    "var_list.extend(['sfc_heat_Amon','sfc_rad_Amon','sfc_nonrad_Amon','sfc_sw_Amon','sfc_lw_Amon'])"
   ]
  },
  {
   "cell_type": "markdown",
   "metadata": {},
   "source": [
    "# Analysis Begins"
   ]
  },
  {
   "cell_type": "code",
   "execution_count": 8,
   "metadata": {
    "collapsed": true
   },
   "outputs": [],
   "source": [
    "# apply mask to data and take sum\n",
    "def masked_sum(var,model,exp,seas,mask):\n",
    "    \n",
    "    # if exception is thrown return NAN\n",
    "    try:\n",
    "        data = np.sum(means_dict[var, model,exp,seas] * weights_dict[model,mask])\n",
    "    except:\n",
    "        data = np.nan\n",
    "        \n",
    "    return data"
   ]
  },
  {
   "cell_type": "code",
   "execution_count": 9,
   "metadata": {
    "collapsed": true
   },
   "outputs": [],
   "source": [
    "# return GMT scaling factor to adjust model results to produce G1* that restores pic GMT\n",
    "def t_factor(model):\n",
    "    # calculate ann-mean, global-mean SAT for each experiment\n",
    "    var, seas, mask = 'tas_Amon','ann','global'\n",
    "    pic = masked_sum(var,model,'piControl',seas,mask)\n",
    "    CO2 = masked_sum(var,model,'abrupt4xCO2',seas,mask)\n",
    "    G1 = masked_sum(var,model,'G1',seas,mask)\n",
    "    \n",
    "    # offset ratio is greater than 1 if G1 offsets more than it should, and vice versa\n",
    "    offset_ratio = (CO2 - G1) / (CO2 - pic)\n",
    "    \n",
    "    # Scaling factor for all results is one over offset_ratio which will produce results with pic GMT\n",
    "    return 1. / offset_ratio"
   ]
  },
  {
   "cell_type": "markdown",
   "metadata": {},
   "source": [
    "## Rescaled results to restore global, greenland and antarctic temperatures to control"
   ]
  },
  {
   "cell_type": "markdown",
   "metadata": {},
   "source": [
    "# Big Table\n",
    "The goal is to produce a big table of results that show picontrol and both anomalies.\n",
    "Each table will have rows of model results and columns of var_anom pairs. Tables will be produced for each mask-season combo."
   ]
  },
  {
   "cell_type": "code",
   "execution_count": 10,
   "metadata": {
    "collapsed": true
   },
   "outputs": [],
   "source": [
    "def add_mean_median(dict_in):\n",
    "    dict_in['_mean'] = np.nanmean(dict_in.values())\n",
    "    dict_in['_median'] = np.nanmedian(dict_in.values())"
   ]
  },
  {
   "cell_type": "code",
   "execution_count": 14,
   "metadata": {},
   "outputs": [
    {
     "name": "stderr",
     "output_type": "stream",
     "text": [
      "/n/home03/pjirvine/.conda/envs/analysis_01_06_18/lib/python2.7/site-packages/ipykernel_launcher.py:2: RuntimeWarning: Mean of empty slice\n",
      "  \n"
     ]
    }
   ],
   "source": [
    "table_dir = \"/n/home03/pjirvine/projects/GeoMIP_SMB/tables/\"\n",
    "\n",
    "# dictionary to store dataframes / tables\n",
    "df_dict = {}\n",
    "\n",
    "# One table for each mask-seas combo\n",
    "for mask, seas in itertools.product(mask_list, seas_list):\n",
    "\n",
    "    var_anom_dict = {}\n",
    "\n",
    "    for var in var_list:\n",
    "\n",
    "        pic_dict, CO2_anom_dict, G1_anom_dict, G1x_anom_dict = {}, {}, {}, {}\n",
    "\n",
    "        #Calculate and store control and anom values per model\n",
    "        for model in model_list:\n",
    "\n",
    "            pic = masked_sum(var,model,'piControl',seas,mask)\n",
    "            CO2 = masked_sum(var,model,'abrupt4xCO2',seas,mask)\n",
    "            G1 = masked_sum(var,model,'G1',seas,mask)\n",
    "            # produce G1x results with G1 rescaled to reproduce pic GMT\n",
    "            G1x = CO2 + t_factor(model) * (G1 - CO2)\n",
    "            \n",
    "            pic_dict[model] = pic\n",
    "            CO2_anom_dict[model] = CO2 - pic\n",
    "            G1_anom_dict[model] = G1 - pic\n",
    "            G1x_anom_dict[model] = G1x - pic\n",
    "\n",
    "        add_mean_median(pic_dict)\n",
    "        add_mean_median(CO2_anom_dict)\n",
    "        add_mean_median(G1_anom_dict)\n",
    "        add_mean_median(G1x_anom_dict)\n",
    "        \n",
    "        var_short = var.replace('_Amon', '').replace('_LImon', '')\n",
    "        var_anom_dict[var_short+'_pic'] = pic_dict\n",
    "        var_anom_dict[var_short+'_CO2_anom'] = CO2_anom_dict\n",
    "        var_anom_dict[var_short+'_G1_anom'] = G1_anom_dict\n",
    "        var_anom_dict[var_short+'_G1x_anom'] = G1x_anom_dict\n",
    "\n",
    "    # Convert dictionary to dataframe, store and also output as csv table.\n",
    "    df = pd.DataFrame.from_dict(var_anom_dict)\n",
    "    df_dict[mask,seas] = df\n",
    "    df.to_csv(table_dir+'{mask}_{seas}.csv'.format(mask=mask,seas=seas))"
   ]
  },
  {
   "cell_type": "code",
   "execution_count": null,
   "metadata": {
    "collapsed": true
   },
   "outputs": [],
   "source": [
    "# # Extract dataframe like this:\n",
    "# print df_dict['global','ann']\n",
    "# # Extract columns from dataframe like this:\n",
    "# print df_dict['global','ann']['evspsbl_CO2_anom']\n",
    "# # Extract list of values like this:\n",
    "# print df_dict['global','ann']['evspsbl_CO2_anom'].values"
   ]
  },
  {
   "cell_type": "markdown",
   "metadata": {},
   "source": [
    "# Model dot plots"
   ]
  },
  {
   "cell_type": "code",
   "execution_count": 51,
   "metadata": {
    "collapsed": true
   },
   "outputs": [],
   "source": [
    "\"\"\"\n",
    "General plot settings and functions\n",
    "\"\"\"\n",
    "\n",
    "n_models = 12\n",
    "indices = df_dict['global','ann']['tas_CO2_anom'].index.values\n",
    "models = indices[0:n_models]\n",
    "model_cols = ['maroon','saddlebrown','red','darkorange','gold','olive','darkgreen','teal','dodgerblue','mediumblue','darkviolet','deeppink']\n",
    "\n",
    "def get_model_data(mask, seas, var_short, exp_anom):\n",
    "    df = df_dict[mask,seas][var_short+'_'+exp_anom]\n",
    "    return df.values[0:12]\n",
    "\n",
    "def plot_models(y_val, series):\n",
    "#     y_vals = 12 * [y_val]\n",
    "    for idx in xrange(12):\n",
    "        plt.plot(series[idx], y_val, 'o', color=model_cols[idx])"
   ]
  },
  {
   "cell_type": "code",
   "execution_count": 77,
   "metadata": {},
   "outputs": [
    {
     "name": "stdout",
     "output_type": "stream",
     "text": [
      "8.084818970071577 -0.20449386113361356\n",
      "8.618400399432083 -0.43641336280659004\n",
      "0.7086631118718931 -0.07576395352550191\n",
      "70.9382676191375 -5.38099079062231\n",
      "47.62035976468535 -5.509809377396834\n"
     ]
    },
    {
     "data": {
      "image/png": "[encoded data removed]",
      "text/plain": [
       "<Figure size 240.945x396.85 with 6 Axes>"
      ]
     },
     "metadata": {},
     "output_type": "display_data"
    }
   ],
   "source": [
    "\"\"\"\n",
    "Test CO2 and G1x anomalies\n",
    "\"\"\"\n",
    "\n",
    "y_CO2 = 0.7\n",
    "y_G1 = 0.38\n",
    "y_G1x = 0.22\n",
    "\n",
    "def plot_anom_set(mask, seas, var, test=True):\n",
    "    \n",
    "    CO2_anom = get_model_data(mask, seas, var, 'CO2_anom')\n",
    "    G1_anom = get_model_data(mask, seas, var, 'G1_anom')\n",
    "    G1x_anom = get_model_data(mask, seas, var, 'G1x_anom')\n",
    "\n",
    "    plot_models(y_CO2, CO2_anom)\n",
    "    plot_models(y_G1, G1_anom)\n",
    "    plot_models(y_G1x, G1x_anom)\n",
    "                  \n",
    "    if test:\n",
    "        print np.nanmax(np.concatenate((CO2_anom,G1_anom,G1x_anom))), np.nanmin(np.concatenate((CO2_anom,G1_anom,G1x_anom)))\n",
    "\n",
    "\"\"\"\n",
    "Greenland\n",
    "\"\"\"\n",
    "\n",
    "fig = plt.figure(figsize=cm2inch(8.5,14))\n",
    "\n",
    "\"\"\"\n",
    "Legend\n",
    "\"\"\"\n",
    "ax = fig.add_subplot(611)\n",
    "\n",
    "# array of model names\n",
    "nx, ny = (3,4)\n",
    "x = np.linspace(0.03,0.8,nx)\n",
    "y = np.linspace(0.07,0.8,ny)\n",
    "xv,yv = np.meshgrid(x,y)\n",
    "xv, yv = (xv.flatten(), yv.flatten())\n",
    "\n",
    "# plot model_names\n",
    "for i in xrange(n_models):\n",
    "    plt.text(xv[i], yv[i], models[i],color=model_cols[i], fontsize=7)\n",
    "\n",
    "ax.set_ylim(0,1)\n",
    "ax.set_xlim(0,1.2)\n",
    "ax.set_title('Greenland')\n",
    "plt.tick_params(axis='x',which='both',bottom=False,top=False,labelbottom=False)\n",
    "plt.tick_params(axis='y',which='both',left=False,right=False,labelleft=False)\n",
    "# ax.get_xaxis().set_ticklabels([])\n",
    "# ax.get_yaxis().set_ticklabels([])\n",
    "\n",
    "\"\"\"\n",
    "SAT ann plot\n",
    "\"\"\"\n",
    "ax = fig.add_subplot(612)\n",
    "\n",
    "plot_anom_set('greenland', 'ann', 'tas')\n",
    "\n",
    "ax.set_ylim(0,1)\n",
    "ax.set_xlim(-1,10)\n",
    "ax.set_title('SAT Annual (K)')\n",
    "\n",
    "\"\"\"\n",
    "SAT JJA plot\n",
    "\"\"\"\n",
    "ax = fig.add_subplot(613)\n",
    "\n",
    "plot_anom_set('greenland', 'jja', 'tas')\n",
    "\n",
    "ax.set_ylim(0,1)\n",
    "ax.set_xlim(-1,10)\n",
    "ax.set_title('SAT JJA (K)')\n",
    "\n",
    "\"\"\"\n",
    "Precip Ann plot\n",
    "\"\"\"\n",
    "ax = fig.add_subplot(614)\n",
    "\n",
    "plot_anom_set('greenland', 'ann', 'pr')\n",
    "\n",
    "ax.set_ylim(0,1)\n",
    "ax.set_xlim(-0.4,1)\n",
    "ax.set_title('Precip Annual (mmDay-1)')\n",
    "\n",
    "\"\"\"\n",
    "sfc_heat JJA plot\n",
    "\"\"\"\n",
    "ax = fig.add_subplot(615)\n",
    "\n",
    "plot_anom_set('greenland', 'jja', 'sfc_heat')\n",
    "\n",
    "ax.set_ylim(0,1)\n",
    "ax.set_xlim(-10,80)\n",
    "ax.set_title('SFC_heat JJA (Wm-2)')\n",
    "\n",
    "\"\"\"\n",
    "sfc_rad JJA plot\n",
    "\"\"\"\n",
    "ax = fig.add_subplot(616)\n",
    "\n",
    "plot_anom_set('greenland', 'jja', 'sfc_rad')\n",
    "\n",
    "ax.set_ylim(0,1)\n",
    "ax.set_xlim(-10,80)\n",
    "ax.set_title('SFC_rad JJA (Wm-2)')\n",
    "\n",
    "plt.subplots_adjust(top=0.98, bottom=0.1, left=0.10, right=0.95, hspace=0.9,\n",
    "                    wspace=0.35)\n",
    "\n",
    "plt.show()"
   ]
  },
  {
   "cell_type": "code",
   "execution_count": 81,
   "metadata": {},
   "outputs": [
    {
     "name": "stdout",
     "output_type": "stream",
     "text": [
      "10.828196719945314 -0.38511831275913977\n",
      "17.254999807235105 -0.5783077203457907\n",
      "0.39587283346399005 -0.03799862521813857\n",
      "4.733212419243795 -2.363102021421838\n",
      "7.874318548731257 -1.6140463308316977\n"
     ]
    },
    {
     "data": {
      "image/png": "[encoded data removed]",
      "text/plain": [
       "<Figure size 240.945x396.85 with 6 Axes>"
      ]
     },
     "metadata": {},
     "output_type": "display_data"
    }
   ],
   "source": [
    "\"\"\"\n",
    "Antarctica\n",
    "\"\"\"\n",
    "\n",
    "fig = plt.figure(figsize=cm2inch(8.5,14))\n",
    "\n",
    "\"\"\"\n",
    "Legend\n",
    "\"\"\"\n",
    "ax = fig.add_subplot(611)\n",
    "\n",
    "# array of model names\n",
    "nx, ny = (3,4)\n",
    "x = np.linspace(0.03,0.8,nx)\n",
    "y = np.linspace(0.07,0.8,ny)\n",
    "xv,yv = np.meshgrid(x,y)\n",
    "xv, yv = (xv.flatten(), yv.flatten())\n",
    "\n",
    "# plot model_names\n",
    "for i in xrange(n_models):\n",
    "    plt.text(xv[i], yv[i], models[i],color=model_cols[i], fontsize=7)\n",
    "\n",
    "ax.set_ylim(0,1)\n",
    "ax.set_xlim(0,1.2)\n",
    "ax.set_title('Antarctica')\n",
    "plt.tick_params(axis='x',which='both',bottom=False,top=False,labelbottom=False)\n",
    "plt.tick_params(axis='y',which='both',left=False,right=False,labelleft=False)\n",
    "# ax.get_xaxis().set_ticklabels([])\n",
    "# ax.get_yaxis().set_ticklabels([])\n",
    "\n",
    "\"\"\"\n",
    "SAT ann plot\n",
    "\"\"\"\n",
    "ax = fig.add_subplot(612)\n",
    "\n",
    "plot_anom_set('antarctica', 'ann', 'tas')\n",
    "\n",
    "ax.set_ylim(0,1)\n",
    "ax.set_xlim(-1,12)\n",
    "ax.set_title('SAT Annual (K)')\n",
    "\n",
    "\"\"\"\n",
    "SAT DJF plot\n",
    "\"\"\"\n",
    "ax = fig.add_subplot(613)\n",
    "\n",
    "plot_anom_set('antarctica', 'djf', 'tas')\n",
    "\n",
    "ax.set_ylim(0,1)\n",
    "ax.set_xlim(-1,18)\n",
    "ax.set_title('SAT DJF (K)')\n",
    "\n",
    "\"\"\"\n",
    "Precip Ann plot\n",
    "\"\"\"\n",
    "ax = fig.add_subplot(614)\n",
    "\n",
    "plot_anom_set('antarctica', 'ann', 'pr')\n",
    "\n",
    "ax.set_ylim(0,1)\n",
    "ax.set_xlim(-0.2,0.6)\n",
    "ax.set_title('Precip Annual (mmDay-1)')\n",
    "\n",
    "\"\"\"\n",
    "sfc_heat DJF plot\n",
    "\"\"\"\n",
    "ax = fig.add_subplot(615)\n",
    "\n",
    "plot_anom_set('antarctica', 'djf', 'sfc_heat')\n",
    "\n",
    "ax.set_ylim(0,1)\n",
    "ax.set_xlim(-5,10)\n",
    "ax.set_title('SFC_heat DJF (Wm-2)')\n",
    "\n",
    "\"\"\"\n",
    "sfc_rad DJF plot\n",
    "\"\"\"\n",
    "ax = fig.add_subplot(616)\n",
    "\n",
    "plot_anom_set('antarctica', 'djf', 'sfc_rad')\n",
    "\n",
    "ax.set_ylim(0,1)\n",
    "ax.set_xlim(-5,10)\n",
    "ax.set_title('SFC_rad DJF (Wm-2)')\n",
    "\n",
    "plt.subplots_adjust(top=0.98, bottom=0.1, left=0.10, right=0.95, hspace=0.9,\n",
    "                    wspace=0.35)\n",
    "\n",
    "plt.show()"
   ]
  },
  {
   "cell_type": "markdown",
   "metadata": {},
   "source": [
    "# Mean results"
   ]
  },
  {
   "cell_type": "code",
   "execution_count": null,
   "metadata": {
    "collapsed": true
   },
   "outputs": [],
   "source": [
    "# get dataframes\n",
    "globe = df_dict['global','ann']\n",
    "land_noice = df_dict['land_noice','ann']\n",
    "greenland = df_dict['greenland','ann']\n",
    "antarctica = df_dict['antarctica','ann']\n",
    "gr_summer = df_dict['greenland','jja']\n",
    "ant_summer = df_dict['antarctica','djf']"
   ]
  },
  {
   "cell_type": "markdown",
   "metadata": {},
   "source": [
    "## global energetics\n",
    "Global surface heat budget is not balanced in piControl, all models are taking up heat into the ocean and land. GISS has a very large energy imbalance!"
   ]
  },
  {
   "cell_type": "code",
   "execution_count": null,
   "metadata": {
    "collapsed": true
   },
   "outputs": [],
   "source": [
    "globe[['sfc_heat_pic','sfc_heat_CO2_anom', 'sfc_heat_G1_anom']]"
   ]
  },
  {
   "cell_type": "code",
   "execution_count": null,
   "metadata": {
    "collapsed": true
   },
   "outputs": [],
   "source": [
    "land_noice[['sfc_heat_pic','sfc_heat_CO2_anom', 'sfc_heat_G1_anom']]"
   ]
  },
  {
   "cell_type": "code",
   "execution_count": null,
   "metadata": {
    "collapsed": true
   },
   "outputs": [],
   "source": [
    "globe[['tas_pic','tas_CO2_anom', 'tas_G1_anom']]"
   ]
  },
  {
   "cell_type": "markdown",
   "metadata": {},
   "source": [
    "### modest evidence of over-effectiveness on total heat flux\n",
    "The energy budget over Greenland and Antartcica is different between models, some show modest heat fluxes in and others show modest heat fluxes out. Median control heat fluxes are GR: -0.4 Wm-2 and ANT: -0.7, for CO2 there is a considerable warming of Greenland GR: 3.9 Wm-2, and little effect on antarctica ANT: 0.4 Wm-2, for G1 there is a modest reduction compared to control GR: -0.03, ANT: -0.05"
   ]
  },
  {
   "cell_type": "code",
   "execution_count": null,
   "metadata": {
    "collapsed": true
   },
   "outputs": [],
   "source": [
    "greenland[['sfc_heat_pic','sfc_heat_CO2_anom', 'sfc_heat_G1_anom']]"
   ]
  },
  {
   "cell_type": "code",
   "execution_count": null,
   "metadata": {
    "collapsed": true
   },
   "outputs": [],
   "source": [
    "antarctica[['sfc_heat_pic','sfc_heat_CO2_anom', 'sfc_heat_G1_anom']]"
   ]
  },
  {
   "cell_type": "markdown",
   "metadata": {},
   "source": [
    "### on radiative side, there is a considerable heating compared to control\n",
    "Both greenland and antarctica are radiatively cooling to the tune of 15-20 WM-2 in control (heated by specific and latent heating to \"balance\"), at 2xCO2 Greenland heats by ~6 Wm-2 and Ant by ~2.5 Wm-2. this is reduced to ~0.7Wm-2 and ~0.5 Wm-2 in G1."
   ]
  },
  {
   "cell_type": "code",
   "execution_count": null,
   "metadata": {
    "collapsed": true
   },
   "outputs": [],
   "source": [
    "greenland[['sfc_rad_pic','sfc_rad_CO2_anom', 'sfc_rad_G1_anom']]"
   ]
  },
  {
   "cell_type": "code",
   "execution_count": null,
   "metadata": {
    "collapsed": true
   },
   "outputs": [],
   "source": [
    "antarctica[['sfc_rad_pic','sfc_rad_CO2_anom', 'sfc_rad_G1_anom']]"
   ]
  },
  {
   "cell_type": "markdown",
   "metadata": {},
   "source": [
    "### heat fluxes\n",
    "in picontrol heat fluxes warm Greenland and Antarctica to tune of ~15 Wm-2. There is a reduction in heat fluxes into greenland and antarctica in 2xCO2, GR:-1.5, ANT:-2.2, partially offsetting increased radiative heating in Greenland and mostly offsetting it in Antarctica. in G1 the reduction in heat fluxes is moderated, GR:-0.8, ANT:-0.7."
   ]
  },
  {
   "cell_type": "code",
   "execution_count": null,
   "metadata": {
    "collapsed": true
   },
   "outputs": [],
   "source": [
    "greenland[['sfc_nonrad_pic','sfc_nonrad_CO2_anom', 'sfc_nonrad_G1_anom']]"
   ]
  },
  {
   "cell_type": "code",
   "execution_count": null,
   "metadata": {
    "collapsed": true
   },
   "outputs": [],
   "source": [
    "antarctica[['sfc_nonrad_pic','sfc_nonrad_CO2_anom', 'sfc_nonrad_G1_anom']]"
   ]
  },
  {
   "cell_type": "markdown",
   "metadata": {},
   "source": [
    "## Accumulalation\n",
    "For most models ~90% of precip is as snow on greenland and ~100% for Antarctica in control. P-E is close to P in all models, due to low total evap rates."
   ]
  },
  {
   "cell_type": "code",
   "execution_count": null,
   "metadata": {
    "collapsed": true
   },
   "outputs": [],
   "source": [
    "greenland[['pr_pic','prsn_pic','p-e_pic']]"
   ]
  },
  {
   "cell_type": "code",
   "execution_count": null,
   "metadata": {
    "collapsed": true
   },
   "outputs": [],
   "source": [
    "antarctica[['pr_pic','prsn_pic','p-e_pic']]"
   ]
  },
  {
   "cell_type": "markdown",
   "metadata": {},
   "source": [
    "### precip change\n",
    "GR and ANT both see a significant increase in precip at high CO2. This is basically completely offset in G1."
   ]
  },
  {
   "cell_type": "code",
   "execution_count": null,
   "metadata": {
    "collapsed": true
   },
   "outputs": [],
   "source": [
    "greenland[['pr_pic','pr_CO2_anom','pr_G1_anom']]"
   ]
  },
  {
   "cell_type": "code",
   "execution_count": null,
   "metadata": {
    "collapsed": true
   },
   "outputs": [],
   "source": [
    "antarctica[['pr_pic','pr_CO2_anom','pr_G1_anom']]"
   ]
  },
  {
   "cell_type": "markdown",
   "metadata": {},
   "source": [
    "### lying snow"
   ]
  },
  {
   "cell_type": "code",
   "execution_count": null,
   "metadata": {
    "collapsed": true
   },
   "outputs": [],
   "source": [
    "greenland[['snw_pic','snw_CO2_anom','snw_G1_anom']]"
   ]
  },
  {
   "cell_type": "code",
   "execution_count": null,
   "metadata": {
    "collapsed": true
   },
   "outputs": [],
   "source": [
    "antarctica[['snw_pic','snw_CO2_anom','snw_G1_anom']]"
   ]
  },
  {
   "cell_type": "markdown",
   "metadata": {},
   "source": [
    "## Summer changes"
   ]
  },
  {
   "cell_type": "markdown",
   "metadata": {},
   "source": [
    "### SAT\n",
    "Most of summer temp increase is offset by G1, though somewhat more effectively in Ant."
   ]
  },
  {
   "cell_type": "code",
   "execution_count": null,
   "metadata": {
    "collapsed": true
   },
   "outputs": [],
   "source": [
    "gr_summer[['tas_pic','tas_CO2_anom','tas_G1_anom']]"
   ]
  },
  {
   "cell_type": "code",
   "execution_count": null,
   "metadata": {
    "collapsed": true
   },
   "outputs": [],
   "source": [
    "ant_summer[['tas_pic','tas_CO2_anom','tas_G1_anom']]"
   ]
  },
  {
   "cell_type": "markdown",
   "metadata": {},
   "source": [
    "### snow melt\n",
    "Increases in snow melt are generally offset but large differences between models and few models with data makes it tricky to be certain."
   ]
  },
  {
   "cell_type": "code",
   "execution_count": null,
   "metadata": {
    "collapsed": true
   },
   "outputs": [],
   "source": [
    "gr_summer[['snm_pic','snm_CO2_anom','snm_G1_anom']]"
   ]
  },
  {
   "cell_type": "code",
   "execution_count": null,
   "metadata": {
    "collapsed": true
   },
   "outputs": [],
   "source": [
    "ant_summer[['snm_pic','snm_CO2_anom','snm_G1_anom']]"
   ]
  },
  {
   "cell_type": "markdown",
   "metadata": {},
   "source": [
    "### radiative changes in Greenland summer\n",
    "The large increase in summer sfc heat flux into the ice is generally offset in G1 +0.08Wm-2, there is a somewhat greater reduction in summer surface radiation which ends somewhat below control -0.4 Wm-2, offset by greater LH and SH heat fluxes. There is a significant reduction in net SW at surface -2.5 Wm-2 that is offset by greater LW at surface +2.0 Wm-2"
   ]
  },
  {
   "cell_type": "code",
   "execution_count": null,
   "metadata": {
    "collapsed": true
   },
   "outputs": [],
   "source": [
    "gr_summer[['sfc_heat_pic','sfc_heat_CO2_anom','sfc_heat_G1_anom']]"
   ]
  },
  {
   "cell_type": "code",
   "execution_count": null,
   "metadata": {
    "collapsed": true
   },
   "outputs": [],
   "source": [
    "gr_summer[['sfc_rad_pic','sfc_rad_CO2_anom','sfc_rad_G1_anom']]"
   ]
  },
  {
   "cell_type": "code",
   "execution_count": null,
   "metadata": {
    "collapsed": true
   },
   "outputs": [],
   "source": [
    "gr_summer[['sfc_sw_pic','sfc_sw_CO2_anom','sfc_sw_G1_anom']]"
   ]
  },
  {
   "cell_type": "code",
   "execution_count": null,
   "metadata": {
    "collapsed": true
   },
   "outputs": [],
   "source": [
    "gr_summer[['sfc_lw_pic','sfc_lw_CO2_anom','sfc_lw_G1_anom']]"
   ]
  },
  {
   "cell_type": "markdown",
   "metadata": {},
   "source": [
    "### radiative changes in Antarctic summer\n",
    "slight net reduction in ANT sfc heat -0.2 Wm-2, explained by rad -0.15 Wm-2, -3.0 Wm-2 sfc SW mostly offset by LW increase +2.85 Wm-2"
   ]
  },
  {
   "cell_type": "code",
   "execution_count": null,
   "metadata": {
    "collapsed": true
   },
   "outputs": [],
   "source": [
    "ant_summer[['sfc_heat_pic','sfc_heat_CO2_anom','sfc_heat_G1_anom']]"
   ]
  },
  {
   "cell_type": "code",
   "execution_count": null,
   "metadata": {
    "collapsed": true
   },
   "outputs": [],
   "source": [
    "ant_summer[['sfc_rad_pic','sfc_rad_CO2_anom','sfc_rad_G1_anom']]"
   ]
  },
  {
   "cell_type": "code",
   "execution_count": null,
   "metadata": {
    "collapsed": true
   },
   "outputs": [],
   "source": [
    "ant_summer[['sfc_sw_pic','sfc_sw_CO2_anom','sfc_sw_G1_anom']]"
   ]
  },
  {
   "cell_type": "code",
   "execution_count": null,
   "metadata": {
    "collapsed": true
   },
   "outputs": [],
   "source": [
    "ant_summer[['sfc_lw_pic','sfc_lw_CO2_anom','sfc_lw_G1_anom']]"
   ]
  },
  {
   "cell_type": "code",
   "execution_count": null,
   "metadata": {
    "collapsed": true
   },
   "outputs": [],
   "source": [
    "print globe.columns.values"
   ]
  },
  {
   "cell_type": "code",
   "execution_count": null,
   "metadata": {
    "collapsed": true
   },
   "outputs": [],
   "source": []
  },
  {
   "cell_type": "markdown",
   "metadata": {},
   "source": [
    "### Variables for reference"
   ]
  },
  {
   "cell_type": "code",
   "execution_count": null,
   "metadata": {
    "collapsed": true
   },
   "outputs": [],
   "source": [
    "# Climate stuff\n",
    "add_var('tas_Amon',k2c,0.0, \"\")         # 2m temp\n",
    "add_var('pe_Amon', 0.0, s2d, \"\")            # Precip\n",
    "add_var('prsn_Amon', 0.0, s2d, \"\")          # snowfall\n",
    "add_var('evspsbl_Amon', 0.0, s2d, \"\")       # total evap\n",
    "add_var('sbl_Amon', 0.0, s2d, \"\")           # sublimation\n",
    "add_var('ts_Amon', k2c, 0.0, \"\")        # surface temp\n",
    "add_var('hurs_Amon', 0.0, 0.0, \"\")          # relative humidity\n",
    "# Energy flux at surface\n",
    "add_var('rlus_Amon',0.0,0.0,\"\")             # LW up \n",
    "add_var('rlds_Amon',0.0,0.0,\"\")             # LW down\n",
    "add_var('rsus_Amon',0.0,0.0,\"\")             # SW up\n",
    "add_var('rsds_Amon',0.0,0.0,\"\")             # SW down\n",
    "add_var('hfss_Amon',0.0,0.0,\"\")             # sensible heat up\n",
    "add_var('hfls_Amon',0.0,0.0,\"\")             # latent heat up\n",
    "means_dict['sfc_heat_Amon', model, exp, seas] = sfc_heat\n",
    "means_dict['sfc_rad_Amon', model, exp, seas] = sfc_rad\n",
    "# Snow Stuff\n",
    "add_var('lwsnl_LImon',0.0,0.0,\"\")           # liquid water snow\n",
    "add_var('snd_LImon',0.0,0.0,\"\")             # fresh snow thickness\n",
    "add_var('snm_LImon',0.0,s2d,\"\")             # snow melt\n",
    "add_var('hfdsn_LImon',0.0,0.0,\"\")           # heat flux into snow\n",
    "add_var('tsn_LImon',k2c,0.0,\"\")         # snow temperature\n",
    "add_var('snw_LImon',0.0,0.0,\"\")             # snow mass"
   ]
  }
 ],
 "metadata": {
  "kernelspec": {
   "display_name": "Python 2",
   "language": "python",
   "name": "python2"
  },
  "language_info": {
   "codemirror_mode": {
    "name": "ipython",
    "version": 2
   },
   "file_extension": ".py",
   "mimetype": "text/x-python",
   "name": "python",
   "nbconvert_exporter": "python",
   "pygments_lexer": "ipython2",
   "version": "2.7.14"
  }
 },
 "nbformat": 4,
 "nbformat_minor": 2
}
