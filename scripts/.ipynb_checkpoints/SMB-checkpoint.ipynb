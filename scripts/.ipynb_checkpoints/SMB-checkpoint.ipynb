{
 "cells": [
  {
   "cell_type": "code",
   "execution_count": 15,
   "metadata": {
    "collapsed": false
   },
   "outputs": [],
   "source": [
    "import my_shell_tools\n",
    "import os.path\n",
    "import subprocess\n",
    "import pandas as pd"
   ]
  },
  {
   "cell_type": "code",
   "execution_count": 3,
   "metadata": {
    "collapsed": true
   },
   "outputs": [],
   "source": [
    "model_list = ['BNU-ESM','CanESM2','CCSM4','CESM-CAM5.1-FV','CSIRO-Mk3L-1-2','EC-EARTH','GISS-E2-R','HadCM3','HadGEM2-ES','IPSL-CM5A-LR','MIROC-ESM','MPI-ESM-LR','NorESM1-M']\n",
    "exp_list = ['piControl','abrubt4xCO2','G1']\n",
    "var_list = [\n",
    "    'tas', # Temp\n",
    "    'ts',\n",
    "    'hurs', # humidity\n",
    "    'snw', # snow amount lying and snow melt\n",
    "    'snm',\n",
    "    'pr', #moisture\n",
    "    'evspbl',\n",
    "    'sbl'\n",
    "    'rlds', #Radiation\n",
    "    'rsds',\n",
    "    'rlus',\n",
    "    'rlds',\n",
    "    'rsus',\n",
    "    'rsds',\n",
    "    'hfss',\n",
    "    'hfls',\n",
    "    'lwsnl', # snow variables\n",
    "    'snd',\n",
    "    'hfdsn',\n",
    "    'tsn'\n",
    "    ]"
   ]
  },
  {
   "cell_type": "code",
   "execution_count": null,
   "metadata": {
    "collapsed": true
   },
   "outputs": [],
   "source": [
    "# This function grabs files from file_dir using the specified ls_search\n",
    "def file_grabber(file_dir, ls_search):\n",
    "\n",
    "    # run shell command to 'ls' contents of directory and store\n",
    "    file_list_string = subprocess.check_output('ls '+file_dir+ls_search, stderr=subprocess.STDOUT, shell=True)\n",
    "    file_list_string = file_list_string.replace(file_dir,'') # remove directory from name\n",
    "\n",
    "    # convert string to list and remove the empty last entry\n",
    "    file_list = file_list_string.split('\\n') # split on new lines\n",
    "    file_list = file_list[0:len(file_list)-1] # exclude last entry\n",
    "\n",
    "    return file_list"
   ]
  },
  {
   "cell_type": "code",
   "execution_count": 4,
   "metadata": {
    "collapsed": true
   },
   "outputs": [],
   "source": [
    "geomip_monthly = '/n/home03/pjirvine/keithfs1_pji/geomip_archive/final_data/{model}/{exp}/monthly/'\n",
    "geomip_timemean = '/n/home03/pjirvine/keithfs1_pji/geomip_archive/final_data/{model}/{exp}/timemean/'"
   ]
  },
  {
   "cell_type": "code",
   "execution_count": 21,
   "metadata": {
    "collapsed": false
   },
   "outputs": [],
   "source": [
    "out_dir = '/n/home03/pjirvine/projects/GeoMIP_SMB/tables/'\n",
    "\n",
    "model_exp_num_dict = {}\n",
    "model_exp_list_dict = {}\n",
    "\n",
    "for model in model_list:\n",
    "    for exp in exp_list:\n",
    "        \n",
    "        # set folder to search\n",
    "        folder = geomip_timemean.format(model=model, exp=exp)\n",
    "        \n",
    "        num_dict = {}\n",
    "        list_dict = {}\n",
    "        \n",
    "        for var in var_list:\n",
    "            \n",
    "            # ls *folder/search*\n",
    "            search = '{var}_*_ann_mean.nc'.format(var=var)\n",
    "            \n",
    "            print folder+search\n",
    "            \n",
    "            if os.path.isfile(folder+search):\n",
    "                var_list = my_shell_tools.file_grabber(folder, search)\n",
    "            else:\n",
    "                var_list = []\n",
    "            \n",
    "            list_dict[var] = var_list\n",
    "            num_dict[var] = len(var_list)\n",
    "        # end var\n",
    "        \n",
    "        model_exp_list_dict[model+'_'+exp] = list_dict\n",
    "        model_exp_num_dict[model+'_'+exp] = num_dict\n",
    "    # end exp\n",
    "# end model\n",
    "\n",
    "pd.DataFrame.from_dict(model_exp_list_dict).to_csv(out_dir + 'list_vars_by_model.csv')\n",
    "pd.DataFrame.from_dict(model_exp_num_dict).to_csv(out_dir + 'num_vars_by_model.csv')"
   ]
  },
  {
   "cell_type": "code",
   "execution_count": 19,
   "metadata": {
    "collapsed": false
   },
   "outputs": [
    {
     "name": "stdout",
     "output_type": "stream",
     "text": [
      "{}\n"
     ]
    }
   ],
   "source": [
    "print model_exp_num_dict['BNU-ESM_piControl']"
   ]
  },
  {
   "cell_type": "code",
   "execution_count": null,
   "metadata": {
    "collapsed": true
   },
   "outputs": [],
   "source": []
  }
 ],
 "metadata": {
  "kernelspec": {
   "display_name": "Python 2",
   "language": "python",
   "name": "python2"
  },
  "language_info": {
   "codemirror_mode": {
    "name": "ipython",
    "version": 2
   },
   "file_extension": ".py",
   "mimetype": "text/x-python",
   "name": "python",
   "nbconvert_exporter": "python",
   "pygments_lexer": "ipython2",
   "version": "2.7.13"
  }
 },
 "nbformat": 4,
 "nbformat_minor": 2
}
