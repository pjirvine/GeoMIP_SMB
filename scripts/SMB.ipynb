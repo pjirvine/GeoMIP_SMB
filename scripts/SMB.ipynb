{
 "cells": [
  {
   "cell_type": "code",
   "execution_count": 24,
   "metadata": {
    "collapsed": false,
    "deletable": true,
    "editable": true
   },
   "outputs": [],
   "source": [
    "import my_shell_tools\n",
    "from os.path import isfile\n",
    "from os import listdir\n",
    "import subprocess\n",
    "import pandas as pd"
   ]
  },
  {
   "cell_type": "code",
   "execution_count": 32,
   "metadata": {
    "collapsed": true,
    "deletable": true,
    "editable": true
   },
   "outputs": [],
   "source": [
    "model_list = ['BNU-ESM','CanESM2','CCSM4','CESM-CAM5.1-FV','CSIRO-Mk3L-1-2','EC-EARTH','GISS-E2-R','HadCM3','HadGEM2-ES','IPSL-CM5A-LR','MIROC-ESM','MPI-ESM-LR','NorESM1-M']\n",
    "exp_list = ['piControl','abrupt4xCO2','G1']\n",
    "var_list = [\n",
    "    'tas', # Temp\n",
    "    'ts',\n",
    "    'hurs', # humidity\n",
    "    'snw', # snow amount lying and snow melt\n",
    "    'snm',\n",
    "    'pr', #moisture\n",
    "    'prsn',\n",
    "    'pe',\n",
    "    'evspsbl',\n",
    "    'sbl',\n",
    "    'mrro',\n",
    "    'rlds', #Radiation\n",
    "    'rsds',\n",
    "    'rlus',\n",
    "    'rlds',\n",
    "    'rsus',\n",
    "    'rsds',\n",
    "    'hfss',\n",
    "    'hfls',\n",
    "    'lwsnl', # snow variables\n",
    "    'snd',\n",
    "    'hfdsn',\n",
    "    'tsn'\n",
    "    ]"
   ]
  },
  {
   "cell_type": "code",
   "execution_count": 4,
   "metadata": {
    "collapsed": true,
    "deletable": true,
    "editable": true
   },
   "outputs": [],
   "source": [
    "geomip_monthly = '/n/home03/pjirvine/keithfs1_pji/geomip_archive/final_data/{model}/{exp}/monthly/'\n",
    "geomip_timemean = '/n/home03/pjirvine/keithfs1_pji/geomip_archive/final_data/{model}/{exp}/timemean/'"
   ]
  },
  {
   "cell_type": "code",
   "execution_count": 33,
   "metadata": {
    "collapsed": false,
    "deletable": true,
    "editable": true
   },
   "outputs": [],
   "source": [
    "out_dir = '/n/home03/pjirvine/projects/GeoMIP_SMB/tables/'\n",
    "\n",
    "model_exp_num_dict = {}\n",
    "model_exp_list_dict = {}\n",
    "\n",
    "for model in model_list:\n",
    "    for exp in exp_list:\n",
    "        \n",
    "        # set folder to search\n",
    "        folder = geomip_timemean.format(model=model, exp=exp)\n",
    "        \n",
    "        num_dict = {}\n",
    "        list_dict = {}\n",
    "        \n",
    "        files_in_folder = listdir(folder)\n",
    "        \n",
    "        for var in var_list:\n",
    "            \n",
    "            var_search = var + '_'\n",
    "            \n",
    "            matching = [s for s in files_in_folder if (var_search in s) and ('ann_mean' in s)]\n",
    "            \n",
    "            list_dict[var] = matching\n",
    "            num_dict[var] = len(matching)\n",
    "        # end var\n",
    "        \n",
    "        model_exp_list_dict[model+'_'+exp] = list_dict\n",
    "        model_exp_num_dict[model+'_'+exp] = num_dict\n",
    "    # end exp\n",
    "# end model\n",
    "\n",
    "pd.DataFrame.from_dict(model_exp_list_dict).to_csv(out_dir + 'list_vars_by_model.csv')\n",
    "pd.DataFrame.from_dict(model_exp_num_dict).to_csv(out_dir + 'num_vars_by_model.csv')"
   ]
  },
  {
   "cell_type": "code",
   "execution_count": null,
   "metadata": {
    "collapsed": true,
    "deletable": true,
    "editable": true
   },
   "outputs": [],
   "source": []
  }
 ],
 "metadata": {
  "kernelspec": {
   "display_name": "Python 2",
   "language": "python",
   "name": "python2"
  },
  "language_info": {
   "codemirror_mode": {
    "name": "ipython",
    "version": 2
   },
   "file_extension": ".py",
   "mimetype": "text/x-python",
   "name": "python",
   "nbconvert_exporter": "python",
   "pygments_lexer": "ipython2",
   "version": "2.7.13"
  }
 },
 "nbformat": 4,
 "nbformat_minor": 2
}
